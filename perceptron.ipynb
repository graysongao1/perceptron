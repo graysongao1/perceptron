{
  "nbformat": 4,
  "nbformat_minor": 0,
  "metadata": {
    "colab": {
      "provenance": []
    },
    "kernelspec": {
      "name": "python3",
      "display_name": "Python 3"
    },
    "language_info": {
      "name": "python"
    }
  },
  "cells": [
    {
      "cell_type": "markdown",
      "source": [
        "# Perception Project\n",
        "\n",
        "This is a perception project; part of a larger self-driving car project"
      ],
      "metadata": {
        "id": "I0EB9QaXQB4t"
      }
    },
    {
      "cell_type": "code",
      "execution_count": null,
      "metadata": {
        "id": "Uh4KT0AaPzut"
      },
      "outputs": [],
      "source": []
    }
  ]
}